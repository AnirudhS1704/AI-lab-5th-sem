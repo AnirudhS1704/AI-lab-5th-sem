{
 "cells": [
  {
   "cell_type": "code",
   "execution_count": 2,
   "id": "2225db74",
   "metadata": {},
   "outputs": [],
   "source": [
    "#Describe your graph here\n",
    "Graph_nodes = {\n",
    "    'A': [('B', 6), ('F', 3)],\n",
    "    'B': [('A', 6), ('C', 3), ('D', 2)],\n",
    "    'C': [('B', 3), ('D', 1), ('E', 5)],\n",
    "    'D': [('B', 2), ('C', 1), ('E', 8)],\n",
    "    'E': [('C', 5), ('D', 8), ('I', 5), ('J', 5)],\n",
    "    'F': [('A', 3), ('G', 1), ('H', 7)],\n",
    "    'G': [('F', 1), ('I', 3)],\n",
    "    'H': [('F', 7), ('I', 2)],\n",
    "    'I': [('E', 5), ('G', 3), ('H', 2), ('J', 3)],\n",
    "}"
   ]
  },
  {
   "cell_type": "code",
   "execution_count": 3,
   "id": "11b15de9",
   "metadata": {},
   "outputs": [],
   "source": [
    "#for simplicity we ll consider heuristic distances given\n",
    "#and this function returns heuristic distance for all nodes\n",
    "def heuristic(n):\n",
    "    H_dist = {\n",
    "        'A': 11,\n",
    "        'B': 6,\n",
    "        'C': 5,\n",
    "        'D': 7,\n",
    "        'E': 3,\n",
    "        'F': 6,\n",
    "        'G': 5,\n",
    "        'H': 3,\n",
    "        'I': 1,\n",
    "        'J': 0\n",
    "    }\n",
    "    return H_dist[n]"
   ]
  },
  {
   "cell_type": "code",
   "execution_count": 4,
   "id": "34622061",
   "metadata": {},
   "outputs": [],
   "source": [
    "def get_neighbours(v):\n",
    "    if v in Graph_nodes:\n",
    "        return Graph_nodes[v]\n",
    "    return None"
   ]
  },
  {
   "cell_type": "code",
   "execution_count": 11,
   "id": "7bfe957f",
   "metadata": {},
   "outputs": [],
   "source": [
    "def a_star(start, goal):\n",
    "    open_set = set(start)\n",
    "    closed_set = set()    \n",
    "    g = {}\n",
    "    parents = {}\n",
    "\n",
    "    g[start] = 0    \n",
    "    parents[start] = start\n",
    "    \n",
    "    while len(open_set) > 0:\n",
    "        # find the lowest f()\n",
    "        n = None\n",
    "        for v in open_set:\n",
    "            if n == None or g[v] + heuristic(v) < g[n] + heuristic(n):\n",
    "                n = v\n",
    "                \n",
    "        # if n is the goal state or there are no neighbours to n then pass\n",
    "        if n == goal or Graph_nodes[n] == None:\n",
    "            pass\n",
    "        \n",
    "        else:\n",
    "            for (node, weight) in get_neighbours(n):\n",
    "                if node not in open_set and node not in closed_set:\n",
    "                    open_set.add(node)\n",
    "                    parents[node] = n\n",
    "                    g[node] = g[n] + weight\n",
    "                     \n",
    "                elif g[n] + weight < g[node] :\n",
    "                    g[node] = g[n] + weight # update g(node)\n",
    "                    parents[node] = n\n",
    "                    \n",
    "                    if node in closed_set:\n",
    "                        closed_set.add(node)\n",
    "                        open_set.remove(node)\n",
    "                        \n",
    "        if n == None:\n",
    "            print('No path exists!')\n",
    "            return None\n",
    "                \n",
    "        # if n is the stop node then trace the path using the parents \n",
    "        # go backwards from goal node to start node\n",
    "        if n == goal:\n",
    "            path = []\n",
    "            while parents[n] != n:\n",
    "                path.append(n) # append n\n",
    "                n = parents[n] # now n is its parent bcs we need to trace parent(parent(n))\n",
    "            path.append(start)\n",
    "            path.reverse()\n",
    "            print(f'Path found {path}')\n",
    "            return path\n",
    "        \n",
    "        # remove n from open list & add to closed list\n",
    "        open_set.remove(n)\n",
    "        closed_set.add(n)\n",
    "        \n",
    "    print('No path exists!')\n",
    "    return None\n",
    "            "
   ]
  },
  {
   "cell_type": "code",
   "execution_count": 12,
   "id": "4c444569",
   "metadata": {
    "scrolled": false
   },
   "outputs": [
    {
     "name": "stdout",
     "output_type": "stream",
     "text": [
      "Path found ['A', 'F', 'G', 'I', 'J']\n"
     ]
    },
    {
     "data": {
      "text/plain": [
       "['A', 'F', 'G', 'I', 'J']"
      ]
     },
     "execution_count": 12,
     "metadata": {},
     "output_type": "execute_result"
    }
   ],
   "source": [
    "a_star('A', 'J')"
   ]
  }
 ],
 "metadata": {
  "kernelspec": {
   "display_name": "Python 3 (ipykernel)",
   "language": "python",
   "name": "python3"
  },
  "language_info": {
   "codemirror_mode": {
    "name": "ipython",
    "version": 3
   },
   "file_extension": ".py",
   "mimetype": "text/x-python",
   "name": "python",
   "nbconvert_exporter": "python",
   "pygments_lexer": "ipython3",
   "version": "3.11.4"
  }
 },
 "nbformat": 4,
 "nbformat_minor": 5
}
